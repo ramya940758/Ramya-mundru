{
  "cells": [
    {
      "cell_type": "markdown",
      "metadata": {
        "id": "view-in-github",
        "colab_type": "text"
      },
      "source": [
        "<a href=\"https://colab.research.google.com/github/ramya940758/Ramya-mundru/blob/main/mundru_exercise_03.ipynb\" target=\"_parent\"><img src=\"https://colab.research.google.com/assets/colab-badge.svg\" alt=\"Open In Colab\"/></a>"
      ]
    },
    {
      "cell_type": "markdown",
      "metadata": {
        "id": "VdRwkJBn70nX"
      },
      "source": [
        "## The third In-class-exercise (due on 11:59 PM 10/08/2023, 40 points in total)"
      ]
    },
    {
      "cell_type": "markdown",
      "metadata": {
        "id": "S2htC-oV70ne"
      },
      "source": [
        "The purpose of this exercise is to understand text representation."
      ]
    },
    {
      "cell_type": "markdown",
      "metadata": {
        "id": "ARqm7u6B70ne"
      },
      "source": [
        "Question 1 (10 points): Describe an interesting text classification or text mining task and explain what kind of features might be useful for you to build the machine learning model. List your features and explain why these features might be helpful. You need to list at least five different types of features."
      ]
    },
    {
      "cell_type": "markdown",
      "source": [
        "Text classification task i would like to describe is to remove the stop words from a text and collect meaningful words.\n",
        "1) Word frequency to detect words that can be found often.\n",
        "2)TF-IDF frequency in order to caluclate frequencies.\n",
        "3)BI grams ro detect stop words like (is a).(with the)\n",
        "4)Document length.\n",
        "5)Sentiment Lexicons - use pre-defined stop wop words"
      ],
      "metadata": {
        "id": "1Upzh0NtrhbZ"
      }
    },
    {
      "cell_type": "markdown",
      "metadata": {
        "id": "dEUjBE6C70nf"
      },
      "source": [
        "Question 2 (10 points): Write python code to extract these features you discussed above. You can collect a few sample text data for the feature extraction."
      ]
    },
    {
      "cell_type": "markdown",
      "source": [
        "We have caluclated word frequency usng the below stated code.\n"
      ],
      "metadata": {
        "id": "hVO6Ncb8AV9Q"
      }
    },
    {
      "cell_type": "code",
      "execution_count": null,
      "metadata": {
        "id": "EoQX5s4O70nf",
        "colab": {
          "base_uri": "https://localhost:8080/"
        },
        "outputId": "7e3eed62-8434-4970-93ae-a8fb5dc4facb"
      },
      "outputs": [
        {
          "output_type": "stream",
          "name": "stdout",
          "text": [
            "this: 1\n",
            "is: 1\n",
            "my: 1\n",
            "fifth: 1\n",
            "assignemnt: 1\n",
            "of: 1\n",
            "the: 1\n",
            "class: 1\n",
            "excercise: 1\n"
          ]
        }
      ],
      "source": [
        "#importing counter to increment words in document\n",
        "from collections import Counter\n",
        "#importing re to work with regular expressions\n",
        "import re\n",
        "#creating a function to calulclate words in text\n",
        "def word_frequencies(text):\n",
        "    # Remove punctuation and convert to lowercase\n",
        "    #aooliying regular expressions to text\n",
        "    words = re.findall(r'\\b\\w+\\b', text.lower())\n",
        "\n",
        "    # Count the frequency of each word\n",
        "    word_freq = Counter(words)\n",
        "\n",
        "    return word_freq\n",
        "\n",
        "#giving words which is sample text\n",
        "words = \"this is my fifth assignemnt of the class excercise\"\n",
        "#sending words as parameter to the function created above\n",
        "word_frequencies = word_frequencies(words)\n",
        "\n",
        "# print the word frequencies using the function stated.\n",
        "for word, freq in word_frequencies.items():\n",
        "    print(f\"{word}: {freq}\")\n"
      ]
    },
    {
      "cell_type": "code",
      "source": [
        "def calculate_tf(word, document):\n",
        "    term_frequency = text.count(term)\n",
        "    total_terms = len(text)\n",
        "\n",
        "    tf = term_frequency / total_terms\n",
        "    return tf\n",
        "\n",
        "# Example usage\n",
        "text = \"This is my fifth assignemt for this subject\"\n",
        "term = \"this\"\n",
        "\n",
        "tf = calculate_tf(term, text)\n",
        "print(f\"Term Frequency of '{term}': {tf}\")\n"
      ],
      "metadata": {
        "colab": {
          "base_uri": "https://localhost:8080/"
        },
        "id": "5UpNOsWX0HDs",
        "outputId": "de1291c1-4cec-439d-e0d3-69b4d05602de"
      },
      "execution_count": null,
      "outputs": [
        {
          "output_type": "stream",
          "name": "stdout",
          "text": [
            "Term Frequency of 'this': 0.023255813953488372\n"
          ]
        }
      ]
    },
    {
      "cell_type": "code",
      "source": [
        "#installing nltk for natural langauge processing\n",
        "pip install nltk"
      ],
      "metadata": {
        "colab": {
          "base_uri": "https://localhost:8080/"
        },
        "id": "ntKk0K-W5kMu",
        "outputId": "d5f356a3-1309-433e-f3b5-273b310910bd"
      },
      "execution_count": null,
      "outputs": [
        {
          "output_type": "stream",
          "name": "stdout",
          "text": [
            "Requirement already satisfied: nltk in /usr/local/lib/python3.10/dist-packages (3.8.1)\n",
            "Requirement already satisfied: click in /usr/local/lib/python3.10/dist-packages (from nltk) (8.1.7)\n",
            "Requirement already satisfied: joblib in /usr/local/lib/python3.10/dist-packages (from nltk) (1.3.2)\n",
            "Requirement already satisfied: regex>=2021.8.3 in /usr/local/lib/python3.10/dist-packages (from nltk) (2023.6.3)\n",
            "Requirement already satisfied: tqdm in /usr/local/lib/python3.10/dist-packages (from nltk) (4.66.1)\n"
          ]
        }
      ]
    },
    {
      "cell_type": "code",
      "source": [
        "nltk.download('punkt')"
      ],
      "metadata": {
        "colab": {
          "base_uri": "https://localhost:8080/"
        },
        "id": "XdXbMt7s6fzD",
        "outputId": "97eaa6b9-968b-4369-ccbe-063537ca1df0"
      },
      "execution_count": null,
      "outputs": [
        {
          "output_type": "stream",
          "name": "stderr",
          "text": [
            "[nltk_data] Downloading package punkt to /root/nltk_data...\n",
            "[nltk_data]   Unzipping tokenizers/punkt.zip.\n"
          ]
        },
        {
          "output_type": "execute_result",
          "data": {
            "text/plain": [
              "True"
            ]
          },
          "metadata": {},
          "execution_count": 11
        }
      ]
    },
    {
      "cell_type": "code",
      "source": [
        "#importing natural language library\n",
        "import nltk\n",
        "#importing natural language tool to import ngrams\n",
        "from nltk.util import ngrams\n",
        "#Bi grams function to get bigrams\n",
        "def get_bigrams(text):\n",
        "    # Tokenize the text into words\n",
        "    words = nltk.word_tokenize(text)\n",
        "\n",
        "    # Generate bigrams in order to search in text\n",
        "    bigrams = list(ngrams(words, 2))\n",
        "\n",
        "    return bigrams\n",
        "#text we are sung as part of this method\n",
        "text = \"This is an example sentence. This is another example sentence.\"\n",
        "#making text as parameter to the finction\n",
        "bigrams = get_bigrams(text)\n",
        "\n",
        "# Print the bigrams\n",
        "for bigram in bigrams:\n",
        "    print(bigram)\n"
      ],
      "metadata": {
        "colab": {
          "base_uri": "https://localhost:8080/"
        },
        "id": "dUpMdp2e4Qh2",
        "outputId": "a22dd775-1545-43c8-dfd4-3c4da2a779e8"
      },
      "execution_count": null,
      "outputs": [
        {
          "output_type": "stream",
          "name": "stdout",
          "text": [
            "('This', 'is')\n",
            "('is', 'an')\n",
            "('an', 'example')\n",
            "('example', 'sentence')\n",
            "('sentence', '.')\n",
            "('.', 'This')\n",
            "('This', 'is')\n",
            "('is', 'another')\n",
            "('another', 'example')\n",
            "('example', 'sentence')\n",
            "('sentence', '.')\n"
          ]
        }
      ]
    },
    {
      "cell_type": "code",
      "source": [
        "#function to count words\n",
        "def word_count(text):\n",
        "  #splitting the 1text on space\n",
        "    words = text.split()\n",
        "\n",
        "    return len(words)\n",
        "\n",
        "# text as the input\n",
        "text= \"This is a sample document. It contains some sample text.\"\n",
        "#making text as parameter to function\n",
        "wordnumber = word_count(text)\n",
        "#printing number of words in text\n",
        "print(f\"Word Count: {wordnumber}\")\n"
      ],
      "metadata": {
        "colab": {
          "base_uri": "https://localhost:8080/"
        },
        "id": "OggyhES23lRE",
        "outputId": "513374fa-d67a-4caf-ce03-902540b6951c"
      },
      "execution_count": null,
      "outputs": [
        {
          "output_type": "stream",
          "name": "stdout",
          "text": [
            "Word Count: 10\n"
          ]
        }
      ]
    },
    {
      "cell_type": "markdown",
      "metadata": {
        "id": "7oSK4soH70nf"
      },
      "source": [
        "Question 3 (10 points): Use any of the feature selection methods mentioned in this paper \"Deng, X., Li, Y., Weng, J., & Zhang, J. (2019). Feature selection for text classification: A review. Multimedia Tools & Applications, 78(3).\"\n",
        "\n",
        "Select the most important features you extracted above, rank the features based on their importance in the descending order."
      ]
    },
    {
      "cell_type": "code",
      "execution_count": null,
      "metadata": {
        "id": "2CRuXfV570ng",
        "colab": {
          "base_uri": "https://localhost:8080/"
        },
        "outputId": "ba2010dd-8375-47eb-87a9-d842bcd626ba"
      },
      "outputs": [
        {
          "output_type": "stream",
          "name": "stdout",
          "text": [
            "Feature Importance:\n",
            "detected: 0.0\n",
            "don: 0.0\n",
            "feel: 0.0\n",
            "happy: 0.0\n",
            "is: 0.0\n",
            "like: 0.0\n",
            "negative: 0.0\n",
            "positive: 0.0\n",
            "product: 0.0\n",
            "sentence: 0.0\n",
            "sentiment: 0.0\n",
            "this: 0.0\n",
            "today: 0.0\n"
          ]
        }
      ],
      "source": [
        "\n",
        "#importing the vectorizer and decision tree classifier for\n",
        "from sklearn.feature_extraction.text import TfidfVectorizer\n",
        "from sklearn.tree import DecisionTreeClassifier\n",
        "from sklearn.model_selection import train_test_split\n",
        "# Declaring the inputs\n",
        "X = [\"This is a positive sentence\", \"Negative sentiment detected\", \"I feel happy today\", \"I don't like this product\"]\n",
        "y = [\"positive\", \"negative\", \"positive\", \"negative\"]\n",
        "\n",
        "#creating the vectros for 100 fetures and fitting the input to tokens\n",
        "\n",
        "vectorizer = TfidfVectorizer(max_features=100)\n",
        "X_vectorized = vectorizer.fit_transform(X)\n",
        "\n",
        "\n",
        "X_train, X_test, y_train, y_test = train_test_split(X_vectorized, y, test_size=0.3, random_state=10)\n",
        "\n",
        "#  Buildi Decision Tree Classifier\n",
        "classifier = DecisionTreeClassifier()\n",
        "classifier.fit(X_train, y_train)\n",
        "\n",
        "# Printing the  features\n",
        "print(\"Feature Importance:\")\n",
        "for feature, importance in zip(vectorizer.get_feature_names_out(), dt_classifier.feature_importances_):\n",
        "    print(f\"{feature}: {importance}\")\n",
        "\n"
      ]
    },
    {
      "cell_type": "code",
      "source": [
        "pip install transformers"
      ],
      "metadata": {
        "colab": {
          "base_uri": "https://localhost:8080/"
        },
        "id": "Lj9-hVothcif",
        "outputId": "8c2c1e3a-1cd9-45b0-82b7-2f5fb28f29b2"
      },
      "execution_count": null,
      "outputs": [
        {
          "output_type": "stream",
          "name": "stdout",
          "text": [
            "Collecting transformers\n",
            "  Downloading transformers-4.34.0-py3-none-any.whl (7.7 MB)\n",
            "\u001b[2K     \u001b[90m━━━━━━━━━━━━━━━━━━━━━━━━━━━━━━━━━━━━━━━━\u001b[0m \u001b[32m7.7/7.7 MB\u001b[0m \u001b[31m11.4 MB/s\u001b[0m eta \u001b[36m0:00:00\u001b[0m\n",
            "\u001b[?25hRequirement already satisfied: filelock in /usr/local/lib/python3.10/dist-packages (from transformers) (3.12.4)\n",
            "Collecting huggingface-hub<1.0,>=0.16.4 (from transformers)\n",
            "  Downloading huggingface_hub-0.17.3-py3-none-any.whl (295 kB)\n",
            "\u001b[2K     \u001b[90m━━━━━━━━━━━━━━━━━━━━━━━━━━━━━━━━━━━━━━\u001b[0m \u001b[32m295.0/295.0 kB\u001b[0m \u001b[31m28.4 MB/s\u001b[0m eta \u001b[36m0:00:00\u001b[0m\n",
            "\u001b[?25hRequirement already satisfied: numpy>=1.17 in /usr/local/lib/python3.10/dist-packages (from transformers) (1.23.5)\n",
            "Requirement already satisfied: packaging>=20.0 in /usr/local/lib/python3.10/dist-packages (from transformers) (23.2)\n",
            "Requirement already satisfied: pyyaml>=5.1 in /usr/local/lib/python3.10/dist-packages (from transformers) (6.0.1)\n",
            "Requirement already satisfied: regex!=2019.12.17 in /usr/local/lib/python3.10/dist-packages (from transformers) (2023.6.3)\n",
            "Requirement already satisfied: requests in /usr/local/lib/python3.10/dist-packages (from transformers) (2.31.0)\n",
            "Collecting tokenizers<0.15,>=0.14 (from transformers)\n",
            "  Downloading tokenizers-0.14.1-cp310-cp310-manylinux_2_17_x86_64.manylinux2014_x86_64.whl (3.8 MB)\n",
            "\u001b[2K     \u001b[90m━━━━━━━━━━━━━━━━━━━━━━━━━━━━━━━━━━━━━━━━\u001b[0m \u001b[32m3.8/3.8 MB\u001b[0m \u001b[31m28.3 MB/s\u001b[0m eta \u001b[36m0:00:00\u001b[0m\n",
            "\u001b[?25hCollecting safetensors>=0.3.1 (from transformers)\n",
            "  Downloading safetensors-0.4.0-cp310-cp310-manylinux_2_17_x86_64.manylinux2014_x86_64.whl (1.3 MB)\n",
            "\u001b[2K     \u001b[90m━━━━━━━━━━━━━━━━━━━━━━━━━━━━━━━━━━━━━━━━\u001b[0m \u001b[32m1.3/1.3 MB\u001b[0m \u001b[31m31.1 MB/s\u001b[0m eta \u001b[36m0:00:00\u001b[0m\n",
            "\u001b[?25hRequirement already satisfied: tqdm>=4.27 in /usr/local/lib/python3.10/dist-packages (from transformers) (4.66.1)\n",
            "Requirement already satisfied: fsspec in /usr/local/lib/python3.10/dist-packages (from huggingface-hub<1.0,>=0.16.4->transformers) (2023.6.0)\n",
            "Requirement already satisfied: typing-extensions>=3.7.4.3 in /usr/local/lib/python3.10/dist-packages (from huggingface-hub<1.0,>=0.16.4->transformers) (4.5.0)\n",
            "Requirement already satisfied: charset-normalizer<4,>=2 in /usr/local/lib/python3.10/dist-packages (from requests->transformers) (3.3.0)\n",
            "Requirement already satisfied: idna<4,>=2.5 in /usr/local/lib/python3.10/dist-packages (from requests->transformers) (3.4)\n",
            "Requirement already satisfied: urllib3<3,>=1.21.1 in /usr/local/lib/python3.10/dist-packages (from requests->transformers) (2.0.6)\n",
            "Requirement already satisfied: certifi>=2017.4.17 in /usr/local/lib/python3.10/dist-packages (from requests->transformers) (2023.7.22)\n",
            "Installing collected packages: safetensors, huggingface-hub, tokenizers, transformers\n",
            "Successfully installed huggingface-hub-0.17.3 safetensors-0.4.0 tokenizers-0.14.1 transformers-4.34.0\n"
          ]
        }
      ]
    },
    {
      "cell_type": "markdown",
      "metadata": {
        "id": "7nZGAOwl70ng"
      },
      "source": [
        "Question 4 (10 points): Write python code to rank the text based on text similarity. Based on the text data you used for question 2, design a query to match the most relevant docments. Please use the BERT model to represent both your query and the text data, then calculate the cosine similarity between the query and each text in your data. Rank the similary with descending order."
      ]
    },
    {
      "cell_type": "code",
      "execution_count": null,
      "metadata": {
        "id": "b4HoWK-i70ng",
        "colab": {
          "base_uri": "https://localhost:8080/"
        },
        "outputId": "2fb6a7c4-3728-4413-afcb-75a76dd956d8"
      },
      "outputs": [
        {
          "output_type": "stream",
          "name": "stdout",
          "text": [
            "How to get admitted in UNT\n",
            "[ 3.08831334e-02 -2.92988956e-01 -4.24551010e-01 -1.09504342e-01\n",
            "  5.04072189e-01 -2.19975650e-01  3.92113030e-01  4.23870236e-01\n",
            " -1.75391510e-01 -2.86471695e-01  3.16767514e-01 -5.96671440e-02\n",
            "  4.24917191e-01  2.68649429e-01  4.06154633e-01 -3.73225659e-01\n",
            "  2.88250148e-01  2.14573070e-02  2.03303874e-01  5.99229932e-02\n",
            "  9.35816988e-02 -3.25777195e-02 -1.21397309e-01  2.44743615e-01\n",
            "  3.08534533e-01  4.21670943e-01 -5.89566380e-02  2.79908568e-01\n",
            " -1.27008542e-01 -4.84073430e-01  2.32523810e-02 -1.98568344e-01\n",
            " -4.62854981e-01  9.54757556e-02 -1.58573046e-01 -6.77210540e-02\n",
            " -1.74032688e-01 -1.72912162e-02  1.72860518e-01  3.45956981e-01\n",
            " -6.67107642e-01  1.91234842e-01 -1.50392264e-01 -1.39574669e-02\n",
            " -1.57112256e-01 -5.70592940e-01  3.90940785e-01  1.61443442e-01\n",
            "  2.65385509e-01 -4.61982489e-02  2.12163150e-01 -1.28284082e-01\n",
            "  1.54034391e-01 -1.52687384e-02 -1.58467576e-01  6.58988059e-01\n",
            " -1.03876702e-01  9.32787955e-02  9.58945230e-03  9.08966362e-02\n",
            "  2.83926763e-02  3.18978310e-01 -1.95309505e-01 -2.40584373e-01\n",
            "  4.41379905e-01  4.19557452e-01  1.96455687e-01  1.55980453e-01\n",
            " -6.52169943e-01  2.92239394e-02 -3.34362417e-01 -2.35584810e-01\n",
            " -1.37003228e-01 -1.27478540e-01  1.99810993e-02 -3.33149523e-01\n",
            "  1.90330401e-01  6.34579360e-01  2.69472480e-01 -4.68819737e-01\n",
            " -1.35948002e-01  2.44251862e-01 -4.22079444e-01  4.39196825e-01\n",
            "  4.54873443e-01  8.76041874e-02 -3.75485420e-01 -1.34642005e-01\n",
            "  3.24062295e-02  5.18046618e-01 -2.10928142e-01 -8.41727927e-02\n",
            " -9.41299945e-02  7.52755031e-02  2.91610837e-01 -4.90543723e-01\n",
            " -1.61866583e-02  4.72037345e-02  3.78888786e-01  3.65485787e-01\n",
            "  1.90989792e-01 -9.86209214e-02 -6.86096959e-03  1.36143297e-01\n",
            "  4.09863405e-02  3.94196585e-02  1.13241166e-01  1.56490281e-01\n",
            " -2.46308908e-01 -5.24311304e-01 -2.20607340e-01 -7.14798868e-02\n",
            "  9.03887600e-02 -4.13694412e-01 -4.06845599e-01  4.79633331e-01\n",
            "  5.35400808e-01 -4.00496006e-01 -2.83894241e-02  3.34696949e-01\n",
            " -3.61497611e-01  2.76010990e-01  2.12917313e-01  7.14729607e-01\n",
            " -8.97991005e-03  4.22693640e-01 -1.65169582e-01  2.43843198e-02\n",
            "  3.35566044e-01 -2.16097951e-01  1.32497415e-01  6.23880684e-01\n",
            "  5.58133960e-01 -4.83707860e-02  1.42537989e-02  2.47060701e-01\n",
            "  1.17710195e-01  4.05102521e-02 -6.26949012e-01  1.16447143e-01\n",
            "  2.65487824e-02 -1.29490957e-01 -5.86187840e-01  5.90191968e-03\n",
            " -7.47229606e-02 -3.30500871e-01 -6.48758262e-02  1.98426634e-01\n",
            "  1.27920993e-02  3.01793337e-01  1.51610315e-01 -8.08525607e-02\n",
            " -3.13802719e-01 -1.74065866e-02 -5.03724098e-01  2.00316310e-01\n",
            " -1.35299563e-01  1.15941204e-01  3.58340710e-01  1.34035289e-01\n",
            "  4.10472184e-01  1.90067932e-01 -1.39658272e-01  5.51565140e-02\n",
            " -2.44768992e-01  6.64441437e-02 -2.64060706e-01  2.58471131e-01\n",
            "  7.81870782e-02  2.56938398e-01 -3.09162468e-01 -5.14950275e-01\n",
            "  5.93511820e-01  5.49391061e-02 -3.20166677e-01 -1.88458651e-01\n",
            "  1.57344118e-01 -4.75911945e-02 -1.56190947e-01  1.16411835e-01\n",
            " -1.44508255e+00  2.48903438e-01  2.08135560e-01  3.20573822e-02\n",
            "  6.78877952e-03 -2.65778508e-02  2.73288608e-01  6.37730630e-03\n",
            "  1.69569686e-01  5.05855799e-01  9.83260348e-02 -1.44163435e-02\n",
            " -3.48869741e-01  6.87116161e-02  5.19079566e-01  2.47275755e-02\n",
            " -9.17146876e-02 -1.86675191e-02 -6.91718519e-01  7.03909546e-02\n",
            "  1.30832464e-01 -2.57756710e-01  3.47358763e-01 -5.85539127e-03\n",
            " -2.93141812e-01  6.80877030e-01  3.52082103e-01 -5.74142002e-02\n",
            " -1.37318969e-01  3.63142431e-01 -1.12103924e-01  3.23082983e-01\n",
            " -1.82415964e-03 -4.42068547e-01  1.23248369e-01 -1.40845343e-01\n",
            " -6.76231086e-02 -1.12099156e-01  4.22362238e-02 -7.67479241e-02\n",
            "  6.74358904e-01 -6.83075339e-02 -1.56852886e-01  1.69316441e-01\n",
            "  2.00450659e-01  2.28847563e-01  6.02571703e-02 -1.08219862e-01\n",
            "  2.64134169e-01  5.56641407e-02  1.43681943e-01 -2.88147569e-01\n",
            "  4.10504580e-01  1.55846387e-01  1.57909349e-01 -3.11129298e-02\n",
            " -2.48408079e-01 -1.67699382e-01  1.18656635e-01  4.38137464e-02\n",
            " -1.47159517e-01  8.36174190e-02  6.76504299e-02  4.05253798e-01\n",
            "  6.97854484e-05  1.72635287e-01  4.46484506e-01 -1.23803951e-02\n",
            "  1.47574348e-02  9.97374579e-03 -8.10872987e-02 -8.31844926e-01\n",
            " -1.52643859e-01 -4.54866558e-01 -1.91993922e-01 -1.64599106e-01\n",
            " -1.53438766e-02  2.73854941e-01 -4.05680776e-01  3.06283027e-01\n",
            "  6.53072447e-02  1.26916498e-01  4.57856059e-01 -6.67234957e-02\n",
            " -6.13011658e-01 -6.68406188e-02 -4.38299537e-01  1.77168414e-01\n",
            " -9.50471014e-02  9.03660282e-02 -2.17748806e-01 -7.14129508e-02\n",
            "  4.81054842e-01 -7.04785764e-01 -5.96244633e-01 -8.17567036e-02\n",
            "  4.08679307e-01  2.73223400e-01 -2.56798007e-02 -2.19067082e-01\n",
            " -2.55265266e-01  3.51861894e-01 -7.51920998e-01  1.31960571e-01\n",
            "  8.67342129e-02  7.31178597e-02 -1.96034238e-02  1.89521477e-01\n",
            "  1.34809077e-01 -2.83520222e-01 -1.93040058e-01  4.83854145e-01\n",
            " -8.89691710e-02 -1.19468674e-01  3.36198121e-01 -2.12845549e-01\n",
            "  1.58813983e-01  1.28520848e-02  1.54866666e-01 -1.18412919e-01\n",
            " -3.59222233e-01 -1.91952154e-01 -5.87424636e-02 -2.14788973e-01\n",
            " -1.43873841e-02  1.80812404e-02 -6.40030056e-02 -2.86586612e-01\n",
            " -3.31613159e+00 -1.34882359e-02  6.65045828e-02 -5.04325218e-02\n",
            "  2.94498168e-02 -4.98996466e-01 -1.13529854e-01 -1.71839178e-01\n",
            " -1.02193117e+00  6.59501925e-02 -5.12653068e-02  1.32331744e-01\n",
            "  1.37109682e-01  5.89682281e-01  1.22285098e-01  6.69026136e-01\n",
            "  1.65868014e-01 -4.65415955e-01 -2.14248717e-01  2.49587849e-01\n",
            "  2.01881099e-02 -3.58247012e-01 -1.48288682e-01 -2.63474703e-01\n",
            "  2.15522349e-01  6.32823050e-01 -2.14331999e-01 -2.53248475e-02\n",
            " -5.53333938e-01 -3.93305480e-01  9.99462083e-02  1.79787144e-01\n",
            "  1.31787747e-01  5.55166230e-02 -1.06585711e-01  7.62849227e-02\n",
            "  4.22437638e-02 -1.16272368e-01 -1.37992844e-01  1.27351612e-01\n",
            " -1.80057511e-01 -7.85561651e-02 -3.41709495e-01  3.41524065e-01\n",
            "  4.60199296e-01  2.75187790e-01  3.96547675e-01 -1.75538316e-01\n",
            " -2.39322826e-01  1.15797862e-01 -1.04292132e-01 -3.58616680e-01\n",
            "  8.54586661e-02  6.30207211e-02 -1.46020278e-01 -3.24428231e-02\n",
            "  2.45762587e-01  6.32916629e-01 -7.88009763e-02 -6.76709771e-01\n",
            "  5.68593526e-03 -2.99798429e-01 -1.44994736e-01  1.80610642e-01\n",
            " -6.42831445e-01 -3.56416821e-01 -4.82043803e-01 -5.01350403e-01\n",
            "  2.91150630e-01  2.28323296e-01  2.10670233e-01  1.59644876e-02\n",
            " -2.84877181e-01 -9.56843674e-01 -3.20014536e-01  3.42425466e-01\n",
            " -3.34748805e-01 -5.04997224e-02  1.69979751e-01 -5.00395633e-02\n",
            " -8.95341337e-02 -2.40451410e-01  1.25320345e-01  2.27877557e-01\n",
            "  8.20629075e-02 -3.24476987e-01  2.69457698e-01 -5.55489510e-02\n",
            " -6.50281072e-01 -1.06138162e-01  4.47537094e-01 -3.39359380e-02\n",
            "  4.34237897e-01  1.59315467e-01 -5.17690554e-02  1.02082565e-01\n",
            "  3.92642170e-01  5.69492728e-02  3.29455197e-01 -2.55524963e-01\n",
            " -3.00069571e-01 -1.69457227e-01  4.25584555e-01 -1.27411485e-01\n",
            "  3.01184505e-01  3.51216227e-01 -1.87785074e-01  1.86482847e-01\n",
            " -6.51712120e-02 -1.97958678e-01  3.47733140e-01 -9.39741850e-01\n",
            "  3.42989385e-01 -1.52383476e-01 -1.57508373e-01 -3.70942391e-02\n",
            "  2.56508052e-01  7.68091857e-01  2.21687973e-01  3.37162167e-01\n",
            "  7.57585093e-02  7.02024281e-01  8.76650810e-02 -2.69761831e-01\n",
            "  1.34645283e-01 -9.38421711e-02 -1.56330526e-01 -7.88947642e-02\n",
            " -3.00387502e-01 -5.36793061e-02 -1.46532310e-02 -2.82107651e-01\n",
            "  2.24333238e-02 -3.06873411e-01 -1.54741585e-01 -9.95382667e-03\n",
            "  9.56899077e-02  4.74373102e-02 -2.64105070e-02  1.50751576e-01\n",
            "  1.45661667e-01  1.44050509e-01 -7.34640658e-02 -2.50576586e-01\n",
            "  2.03765333e-01 -6.43011034e-02 -7.44570568e-02 -1.80530157e-02\n",
            " -6.25029206e-03  3.99210155e-01  3.04136664e-01 -6.62763834e-01\n",
            "  1.08472645e-01 -1.56079933e-01  3.24628413e-01  3.25998336e-01\n",
            "  3.19960684e-01 -1.04788527e-01 -8.51435736e-02 -7.95215666e-02\n",
            " -3.63843024e-01  3.23206596e-02  3.72858405e-01  9.91451815e-02\n",
            " -7.29166567e-02  2.22030625e-01  1.21319242e-01 -2.24709913e-01\n",
            " -3.82926077e-01  3.46987128e-01  2.53804028e-01 -1.67727828e-01\n",
            " -7.76481330e-02 -2.18033016e-01 -4.12525952e-01 -2.79473484e-01\n",
            " -8.69199410e-02  7.18526691e-02 -1.19952513e-02 -7.52425864e-02\n",
            "  3.13154846e-01 -5.84345102e-01  9.32434574e-02 -1.16840020e-01\n",
            "  1.19974226e-01 -3.16656291e-01 -1.45047486e-01 -1.89416751e-01\n",
            "  4.76194955e-02  2.60041445e-01 -1.57369167e-01 -6.41874894e-02\n",
            "  1.56876266e-01 -4.25109752e-02 -1.93926632e-01 -5.05714297e-01\n",
            " -3.76550257e-02 -3.63412708e-01  2.65961021e-01  4.44219232e-01\n",
            "  4.80050832e-01 -8.86064619e-02 -3.25792044e-01 -2.45397701e-03\n",
            "  1.93434492e-01 -9.85750277e-03  8.42145458e-02  2.63181895e-01\n",
            "  2.94353336e-01  2.11803988e-01 -3.21917653e-01 -4.06902462e-01\n",
            " -6.08541250e-01  1.32058740e-01 -1.26748085e-01 -2.72995353e-01\n",
            "  3.53618115e-02 -1.75744474e-01 -3.05370629e-01  1.51134983e-01\n",
            " -1.79740533e-01  1.05723500e-01  2.63361841e-01  2.06469864e-01\n",
            " -3.30478966e-01 -2.19238341e-01 -7.69892931e-02 -2.54394650e-01\n",
            " -4.45803374e-01  2.44199350e-01  1.61823228e-01 -5.12225091e-01\n",
            "  1.04228407e-01  1.30427539e-01  2.52919823e-01 -1.19652480e-01\n",
            "  1.79114521e-01 -6.49943054e-02 -1.37129709e-01  1.01662539e-01\n",
            " -4.07469273e-01 -3.25236291e-01 -2.67291874e-01 -2.72801608e-01\n",
            "  5.91259189e-02  1.31032392e-01 -8.61838385e-02  3.06704581e-01\n",
            "  3.93670462e-02  3.42061043e-01 -1.97287962e-01 -1.87850192e-01\n",
            " -3.32512081e-01 -2.13639081e-01 -2.37666443e-02 -2.10998356e-01\n",
            " -2.55497932e-01  2.29365423e-01  6.78588971e-02  1.10190310e-01\n",
            " -3.05101454e-01  6.91768825e-02 -2.73049146e-01  5.47762327e-02\n",
            " -5.79249524e-02  1.44210041e-01  1.72875226e-01  4.61989880e-01\n",
            "  2.35236004e-01 -3.31440568e-01 -3.74690354e-01 -3.54515702e-01\n",
            "  9.29450840e-02 -3.81090254e-01 -2.20749035e-01  1.21200055e-01\n",
            "  2.01474741e-01 -5.18464208e-01  1.12758107e-01 -2.15371311e-01\n",
            "  3.21545213e-01  6.29573405e-01  3.38912532e-02 -1.02918819e-01\n",
            "  4.02970761e-01 -6.01175940e-03 -3.45282286e-01  3.93482804e-01\n",
            " -2.57611275e-01  3.23987333e-03  2.94537961e-01  5.86314201e-02\n",
            " -4.27486539e-01  8.07302237e-01 -7.26319626e-02 -5.30859567e-02\n",
            "  3.47147048e-01  2.58106994e-03 -1.35179818e-01 -1.87584102e-01\n",
            " -2.01701522e-01  3.50011498e-01  8.52617025e-02  1.59627870e-02\n",
            "  1.93550602e-01  3.36143672e-01  1.44175157e-01 -4.42904443e-01\n",
            "  6.45772159e-01 -1.31088868e-01 -2.16986343e-01 -1.72639146e-01\n",
            "  1.86884105e-01  6.66654408e-01 -4.48822021e-01  5.02240323e-02\n",
            " -4.38734293e-02 -5.94572365e-01  2.21209228e-01 -1.77077666e-01\n",
            "  1.50487304e-01 -3.81847978e-01  4.08148497e-01  3.51086229e-01\n",
            "  1.17945284e-01  2.96193540e-01 -1.19116627e-01 -1.88085392e-01\n",
            " -2.18874011e-02  2.28745997e-01  9.68037546e-02  4.56541777e-03\n",
            " -1.32623732e-01  2.74749666e-01 -3.20043683e-01 -8.42668340e-02\n",
            "  3.73188667e-02 -3.44372630e-01 -1.54295312e-02  1.20013744e-01\n",
            " -3.64025123e-02  3.58835340e-01  3.21276337e-01  5.21659136e-01\n",
            "  2.90895075e-01  1.81385323e-01 -2.34042779e-01  1.12989940e-01\n",
            "  4.91087794e-01  2.26057738e-01 -2.44669035e-01  1.68166280e-01\n",
            "  1.20801210e-01 -1.72445998e-01 -1.56029820e-01  2.11463094e-01\n",
            "  2.74991482e-01 -3.21334243e-01 -6.06050849e-01 -2.83264756e-01\n",
            "  2.33217880e-01 -4.24159706e-01  9.77849662e-02 -7.07912207e-01\n",
            "  1.28108725e-01  2.91028380e-01  2.14050159e-01  1.52416229e-02\n",
            " -7.31775999e-01 -2.40285873e-01 -2.18236241e-02  2.05001503e-01\n",
            "  1.77791178e-01 -3.00350338e-01 -2.90419459e-02  4.44770753e-01\n",
            "  1.93202391e-01 -3.98196161e-01 -3.44302654e-01 -1.76176831e-01\n",
            " -5.42779379e-02 -1.94986269e-01 -3.60710949e-01 -2.12988317e-01\n",
            " -4.15814042e-01 -3.28146100e-01 -4.53186154e-01 -1.14894724e-02\n",
            " -1.00538611e-01 -3.63985330e-01  1.37980998e-01  9.03335512e-02\n",
            "  7.15590641e-02  1.60707742e-01 -8.91310871e-02 -1.02540933e-01\n",
            "  1.76118761e-01  9.47248861e-02  8.21087509e-02  2.19001845e-02\n",
            "  5.89094043e-01 -3.64236371e-03 -7.18078911e-02 -2.52975583e-01\n",
            " -3.17346990e-01  4.26122248e-02 -2.56848752e-01  3.01417381e-01\n",
            " -1.99319884e-01 -1.19543895e-01  2.60198951e-01  6.15142584e-01\n",
            " -8.69213879e-01  3.86928185e-03  1.71503603e-01  4.18949455e-01\n",
            "  4.33287881e-02  3.58048677e-02 -1.47764727e-01  2.70230949e-01\n",
            " -3.14327598e-01 -2.76099414e-01 -7.24318922e-02  5.90151489e-01\n",
            "  6.54218867e-02  1.48425877e-01 -1.65595338e-01  4.64247108e-01\n",
            "  1.04261011e-01 -6.84173480e-02  1.99296609e-01  9.20599513e-03\n",
            "  3.29205513e-01  7.70388320e-02  1.82130963e-01  4.81456667e-02\n",
            " -2.75088642e-02  2.34987870e-01 -1.02847852e-02 -1.52274549e-01\n",
            " -1.35889798e-01  1.04640707e-01  2.02240869e-01 -6.04940802e-02\n",
            " -1.45727324e+00 -5.62714517e-01 -6.08716533e-02 -2.91731328e-01\n",
            "  1.65506974e-01 -4.16563332e-01  5.21030501e-02 -5.06511390e-01\n",
            "  1.03678107e-01 -1.49601027e-01  1.30590275e-01 -1.80270255e-01\n",
            " -5.66074312e-01  4.34216335e-02  2.70731032e-01  9.51867178e-02]\n",
            "[ 3.93992871e-01 -2.68518239e-01 -7.92689770e-02  2.55007297e-01\n",
            "  5.56716263e-01 -2.67554700e-01  1.90152720e-01  8.74855101e-01\n",
            " -6.43751696e-02 -2.91287005e-01  4.67602342e-01 -8.87612253e-02\n",
            "  2.04782024e-01  4.71884757e-01  9.51640308e-02 -4.30338800e-01\n",
            "  2.64111161e-01  1.83585156e-02 -4.47892584e-02 -2.05780305e-02\n",
            " -6.73521385e-02  4.10611369e-02  2.58305054e-02  5.66100001e-01\n",
            "  4.71885979e-01  7.35551864e-02  5.62372543e-02  1.86233044e-01\n",
            "  5.98187037e-02 -4.82830852e-01 -1.59682438e-01 -2.23366186e-01\n",
            " -4.70426500e-01 -9.01415274e-02 -2.00310484e-01 -1.30196169e-01\n",
            " -3.80751133e-01 -5.26512079e-02 -3.09644908e-01  2.93251872e-02\n",
            " -8.66123855e-01 -1.45341888e-01 -2.89762080e-01  7.13139400e-02\n",
            " -1.88589841e-01 -4.37543780e-01  1.65370747e-01 -1.99723452e-01\n",
            "  4.85287338e-01 -1.20483153e-01 -1.62812412e-01  3.93068910e-01\n",
            " -8.17789510e-02 -2.86236256e-01 -7.75229633e-02  3.96788210e-01\n",
            " -3.40222389e-01 -3.52205008e-01 -3.26073706e-01  3.09033040e-02\n",
            " -2.13722527e-01  3.74088317e-01 -4.86914486e-01 -1.82141379e-01\n",
            "  1.16780125e-01  3.61069232e-01 -2.21438576e-02  7.85321521e-04\n",
            " -8.12338412e-01 -3.20543498e-01 -5.20188153e-01 -4.16663326e-02\n",
            " -7.99950436e-02 -5.58593333e-01 -1.60774104e-02  8.43987465e-02\n",
            "  7.71861896e-02  4.11248267e-01 -1.07087716e-01 -9.87501908e-03\n",
            " -2.38780916e-01  6.43499076e-01 -2.41950661e-01  4.15607095e-01\n",
            "  5.38415074e-01  2.26924613e-01 -2.79601246e-01 -1.56713113e-01\n",
            "  2.51933664e-01  2.03690395e-01 -2.53638148e-01  1.84393212e-01\n",
            "  1.60582796e-01 -2.21782010e-02  3.45026016e-01 -1.14718080e-01\n",
            "  1.18440852e-01  1.93210617e-02 -2.77415156e-01  1.48277059e-01\n",
            " -2.05865607e-01 -2.49687448e-01  3.11823457e-01  2.86033988e-01\n",
            " -1.25657776e-02  2.90265441e-01 -1.08131871e-01  5.78473732e-02\n",
            " -4.48999792e-01  1.00306638e-01 -2.72530407e-01 -4.08029288e-01\n",
            " -4.07829843e-02 -4.43990320e-01 -2.75749087e-01  1.38282105e-01\n",
            "  3.63854259e-01 -3.50224227e-01  7.81184658e-02  1.21954255e-01\n",
            " -5.08963317e-02 -1.21602423e-01 -5.30976392e-02  8.29656482e-01\n",
            " -1.12998761e-01  2.48938382e-01 -1.40963411e-02 -2.52315968e-01\n",
            " -2.82013059e-01 -4.17914510e-01  6.51535168e-02  7.13738084e-01\n",
            "  6.50072753e-01 -1.70541964e-02 -2.26887017e-01  6.52145548e-03\n",
            "  1.78990096e-01 -7.69641399e-02 -5.75975835e-01 -1.21585764e-02\n",
            "  9.49481316e-03 -7.67654255e-02 -9.12036896e-02 -3.51524577e-02\n",
            " -1.93433344e-01 -4.61321145e-01  2.28287980e-01  7.81394169e-02\n",
            " -5.38531765e-02  2.38420010e-01  1.54940367e-01  2.08722726e-01\n",
            " -5.41192114e-01 -2.80546337e-01 -2.16684178e-01 -7.21112266e-02\n",
            " -6.95323646e-01  3.78945261e-01  3.99792850e-01  1.16755642e-01\n",
            "  3.57596010e-01  5.74264526e-02 -1.36701548e-02  2.18067452e-01\n",
            " -4.42923382e-02  2.72268891e-01 -2.58603066e-01  8.18271711e-02\n",
            " -1.59360796e-01  1.61133707e-01 -4.08776283e-01 -4.07779887e-02\n",
            "  5.27564228e-01 -7.27898106e-02 -2.49191910e-01 -4.42341417e-01\n",
            "  8.71285126e-02  2.94078082e-01  3.58381957e-01  3.18741947e-02\n",
            " -1.43968642e+00  2.22577110e-01  3.22963774e-01 -2.26350650e-01\n",
            " -2.47892246e-01 -7.67153576e-02  1.84263796e-01  3.52617532e-01\n",
            " -6.38720691e-02  3.39688629e-01 -2.44000614e-01  1.42113850e-01\n",
            " -3.92205656e-01 -1.31913468e-01  5.88663816e-01 -4.89530683e-01\n",
            " -1.48109898e-01  5.70506930e-01 -6.44835353e-01 -2.22596731e-02\n",
            "  8.52957517e-02 -3.00318688e-01 -6.63454412e-03 -1.15017733e-02\n",
            " -4.69200984e-02  1.81784630e-02  2.29818881e-01  1.51919752e-01\n",
            "  1.26697063e-01  2.30198354e-01 -4.59607318e-02  5.77404380e-01\n",
            " -1.12917855e-01 -7.26857632e-02  1.56721845e-01  1.59327731e-01\n",
            "  7.72510394e-02  1.38646275e-01 -5.58236949e-02 -5.57854235e-01\n",
            "  4.51991647e-01 -2.36587435e-01 -2.41369873e-01  7.00046197e-02\n",
            "  1.49687156e-01  2.50770628e-01  8.96730199e-02  3.07315767e-01\n",
            "  6.70252889e-02  6.49852380e-02  1.22785158e-01 -9.17586014e-02\n",
            "  2.44664297e-01  6.12670556e-02  7.09870905e-02 -1.00015275e-01\n",
            " -3.58582586e-01 -2.91979402e-01  1.30839080e-01 -2.10752204e-01\n",
            " -2.18440592e-01  2.71913469e-01 -3.73224646e-01  1.86758503e-01\n",
            "  4.02448356e-01 -1.25356195e-02  6.05378211e-01  1.74412161e-01\n",
            "  2.66061902e-01 -8.46150964e-02 -4.24593948e-02 -8.37955534e-01\n",
            " -6.51465356e-02 -4.68311846e-01 -1.42243244e-02 -9.43124071e-02\n",
            " -1.26428053e-01  7.76636079e-02 -2.04176083e-01  1.46381989e-01\n",
            "  5.24707854e-01  4.96148705e-01  3.64294171e-01 -4.60275821e-02\n",
            " -6.26593828e-01 -4.89142835e-01 -1.64447486e-01  2.54546374e-01\n",
            " -1.72039255e-01  9.69777405e-02 -1.37908161e-01 -2.75035590e-01\n",
            "  2.85360754e-01 -8.88295844e-02 -6.44635975e-01 -1.55562013e-01\n",
            "  1.79369897e-01  2.25924775e-01  7.10077584e-02 -3.24865818e-01\n",
            "  4.47202511e-02  1.72066242e-01 -8.74989748e-01  1.08720846e-01\n",
            "  2.62561172e-01  1.08169042e-01  3.11779100e-02  4.66737449e-01\n",
            "  2.09916785e-01 -2.89971739e-01 -2.37203836e-02  5.23363471e-01\n",
            " -7.02422187e-02 -1.58192307e-01  4.97153461e-01 -1.07468389e-01\n",
            "  1.12832472e-01  1.71378389e-01  6.39462113e-01 -1.21716104e-01\n",
            " -2.08843142e-01 -7.16603547e-02 -4.57488708e-02  1.75222740e-01\n",
            "  4.91765365e-02  3.86764854e-01 -1.82941973e-01 -6.11440420e-01\n",
            " -3.44583178e+00  6.71560317e-02  1.83578968e-01 -3.23614419e-01\n",
            "  1.44798234e-01 -2.74150342e-01 -1.46160200e-01  2.67057531e-02\n",
            " -6.03141129e-01  4.38495949e-02 -2.07008585e-01 -1.62953153e-01\n",
            "  8.39508921e-02  8.45630109e-01  1.82844251e-01  5.99892735e-01\n",
            "  4.23943669e-01 -5.32091737e-01 -1.90588281e-01  6.82020187e-01\n",
            " -4.28865589e-02 -4.44765866e-01  1.70959920e-01  3.00297201e-01\n",
            "  4.78912145e-01  6.26061499e-01 -1.44467384e-01 -1.18778367e-02\n",
            " -1.40787825e-01 -5.18691421e-01  1.74466297e-01  1.91362143e-01\n",
            "  6.99260905e-02  2.30195209e-01  2.66207486e-01 -3.32368650e-02\n",
            "  1.68104559e-01  1.74392562e-03 -5.33791780e-01 -5.45451790e-02\n",
            "  6.06865026e-02 -5.94621241e-01 -5.59359431e-01  3.69503140e-01\n",
            "  6.55442417e-01  1.82490289e-01  5.24060309e-01  1.82415769e-01\n",
            " -1.01443447e-01  2.03436285e-01 -7.00746998e-02  3.34482044e-02\n",
            "  5.73853925e-02 -1.51994750e-01 -3.96852970e-01  1.33812338e-01\n",
            "  2.01319069e-01  6.77407801e-01 -3.19499433e-01 -5.09573519e-01\n",
            " -5.29465564e-02 -3.30749124e-01 -4.05266136e-02 -4.42386791e-02\n",
            " -4.97532487e-01 -3.33222389e-01 -6.57561004e-01 -3.02241921e-01\n",
            "  2.38001123e-01  2.04403430e-01  2.12392852e-01  3.23494285e-01\n",
            " -6.52594149e-01 -8.31477463e-01 -3.34051043e-01  2.80467384e-02\n",
            " -6.65266290e-02 -1.14956938e-01 -8.99859816e-02 -2.12365892e-04\n",
            " -5.81312060e-01 -2.40124434e-01  3.53440106e-01  7.71911815e-02\n",
            "  1.67815939e-01 -3.78624737e-01 -7.38725960e-02  2.41432026e-01\n",
            " -5.50793827e-01 -4.67523992e-01  6.83247745e-01  3.49792272e-01\n",
            "  2.80951858e-01  3.85994494e-01  1.57132909e-01 -5.88034540e-02\n",
            " -4.54150811e-02  2.47784145e-02  6.79190159e-02  4.41791024e-03\n",
            " -3.27580005e-01  1.96439191e-03  5.66203773e-01  2.66500432e-02\n",
            "  2.65503556e-01 -1.20098166e-01 -6.02665901e-01  5.25816604e-02\n",
            " -1.54322386e-01  1.45549297e-01  1.33859098e-01 -6.29182577e-01\n",
            "  3.21137607e-01  2.25868657e-01 -2.73678452e-01  4.27624397e-03\n",
            "  3.70218903e-01  6.66467369e-01  1.65360764e-01  1.47023216e-01\n",
            " -1.49925770e-02  8.37278664e-01 -3.36218774e-01 -6.00296967e-02\n",
            "  4.61974233e-01 -8.98331702e-02  5.19916089e-03  1.90264508e-02\n",
            " -1.59598917e-01 -2.01597363e-01  1.73652753e-01 -4.09409523e-01\n",
            " -3.23046178e-01  3.20637852e-01 -7.22224712e-02 -3.94131362e-01\n",
            "  1.84746742e-01 -9.20209512e-02  2.15329140e-01  1.46319225e-01\n",
            " -1.83366850e-01  3.49551737e-01 -9.74193290e-02 -1.44239724e-01\n",
            "  2.02174429e-02  6.79943860e-02 -2.12247461e-01  2.52552271e-01\n",
            "  4.09749001e-02  1.97066754e-01  9.26997289e-02 -1.84035152e-01\n",
            " -2.15973631e-01 -3.14561814e-01  9.40365046e-02  1.43349811e-01\n",
            "  2.20572159e-01 -2.72598714e-01  1.46907791e-01 -4.72705573e-01\n",
            " -2.87934482e-01  2.42578000e-01  6.13802612e-01  1.63031489e-01\n",
            " -2.90599987e-02  1.53620020e-01 -5.63218370e-02  4.94580343e-02\n",
            " -2.42800578e-01  5.60965538e-01  2.94378221e-01 -2.48681381e-01\n",
            "  2.10085005e-01 -3.14967781e-01 -2.12216526e-01  1.03005834e-01\n",
            " -1.15492061e-01 -1.06028646e-01 -1.51114970e-01 -2.90264815e-01\n",
            "  3.37184310e-01 -9.73199010e-01  7.56023303e-02 -3.87322575e-01\n",
            "  1.77476168e-01  1.24940537e-01 -4.77222018e-02 -1.23900048e-01\n",
            " -5.47118224e-02 -2.98533231e-01 -5.34539104e-01  2.44364403e-02\n",
            " -1.64553940e-01 -2.40878522e-01 -7.59155691e-01 -3.63202184e-01\n",
            " -7.82560278e-03 -3.90539527e-01  3.93926561e-01  3.14042658e-01\n",
            "  4.06309247e-01 -1.01321012e-01 -3.87958139e-01  1.11247823e-01\n",
            " -6.20823577e-02  5.86269736e-01  2.05558807e-01 -7.14905411e-02\n",
            "  2.81069279e-01  3.06814551e-01 -2.73524612e-01 -4.19676512e-01\n",
            " -5.83862424e-01  1.81673080e-01 -1.45888045e-01  3.22246514e-02\n",
            "  3.16519320e-01 -2.33484194e-01 -2.82146275e-01  2.77171403e-01\n",
            " -2.33688325e-01  4.68806893e-01  4.18284565e-01  4.25204754e-01\n",
            " -6.37858093e-01 -1.74863666e-01 -7.07748458e-02  1.07405730e-01\n",
            " -3.62662345e-01  5.25498018e-02 -2.19051257e-01 -6.09527707e-01\n",
            "  3.90494540e-02 -2.27915600e-01  3.48649681e-01 -1.46302551e-01\n",
            "  1.61282972e-01 -4.11334038e-01  3.79637271e-01  3.18571180e-02\n",
            " -2.75364012e-01 -1.71401873e-01 -3.92539382e-01 -1.02933779e-01\n",
            " -1.34244502e-01  7.53285959e-02 -3.44481349e-01  8.57495368e-01\n",
            "  5.76716289e-02  1.90416679e-01 -2.42850646e-01 -2.12379858e-01\n",
            " -3.10575128e-01 -1.42433837e-01 -4.46143210e-01 -3.47525209e-01\n",
            " -1.27680838e-01  2.29759365e-01  3.72186350e-03  5.16918935e-02\n",
            " -1.14794865e-01 -5.68420673e-03 -1.55564845e-01  1.07658871e-01\n",
            "  1.88218579e-01  2.05457881e-01  1.72457080e-02  4.59991723e-01\n",
            "  3.49955618e-01 -5.47817469e-01 -3.55394967e-02 -2.71649212e-01\n",
            "  1.62723064e-01 -7.99144898e-03 -1.11036472e-01  1.81296933e-02\n",
            "  1.98056802e-01 -9.71100450e-01  1.85580507e-01 -2.24402159e-01\n",
            " -2.08145827e-01  4.94189829e-01 -1.19123884e-01 -2.73217857e-01\n",
            "  1.68603808e-01  1.33980751e-01 -9.04305354e-02  4.91929382e-01\n",
            " -2.37942442e-01  6.44096211e-02  4.68613178e-01  3.36286038e-01\n",
            " -3.86390269e-01  2.69768625e-01 -2.08028890e-02  6.30790517e-02\n",
            "  1.03061509e+00 -4.82917838e-02  2.57208079e-01  1.62623644e-01\n",
            " -5.74262701e-02  8.62588212e-02  1.60264298e-01  2.49016732e-01\n",
            "  4.98328470e-02  3.05603296e-01  1.46876603e-01 -4.62139994e-01\n",
            "  6.83971405e-01  1.79439008e-01 -4.26257282e-01 -5.86386800e-01\n",
            "  1.28145339e-02  6.98892415e-01 -5.58250606e-01 -4.01812308e-02\n",
            "  2.27989390e-01 -6.36543870e-01  2.85138696e-01 -8.76056477e-02\n",
            "  3.99926975e-02 -8.93546715e-02  2.70548910e-01  8.04667398e-02\n",
            "  1.43344790e-01  5.03648281e-01 -2.88201123e-01 -4.87496555e-01\n",
            " -1.85473427e-01 -9.60821584e-02 -3.64116430e-02  3.57036710e-01\n",
            " -3.04256797e-01  2.60897517e-01 -1.20353192e-01 -9.38507244e-02\n",
            "  2.23423913e-01  1.34876519e-01  1.54013425e-01  1.19760446e-01\n",
            " -1.02628104e-01  3.01848978e-01  7.46321559e-01  5.96477091e-01\n",
            "  3.11413229e-01  3.40625614e-01 -1.68875754e-01  2.02325985e-01\n",
            "  4.73645419e-01  9.21573117e-02 -1.89156353e-01  2.67271787e-01\n",
            "  3.26308072e-01  1.83653355e-01 -1.04170732e-01 -1.61232669e-02\n",
            "  1.50747240e-01  1.47383422e-01 -3.73060793e-01  3.35776955e-01\n",
            "  2.48327807e-01 -9.91592109e-02  9.03740153e-03 -5.93279541e-01\n",
            "  7.64802843e-02  2.42412612e-01  6.22876823e-01 -2.38722950e-01\n",
            " -4.33534652e-01 -2.67871201e-01  1.03398681e-01  8.47828537e-02\n",
            "  2.69753277e-01 -3.80442291e-01  3.19418423e-02  5.83708048e-01\n",
            "  1.91018975e-03 -5.28282560e-02 -2.98247993e-01 -3.24941307e-01\n",
            " -6.18776008e-02 -7.63842762e-02 -4.14595753e-01 -3.02834302e-01\n",
            " -4.56340224e-01 -4.05109942e-01 -3.28242719e-01 -4.28372055e-01\n",
            " -3.60368460e-01 -4.07305181e-01 -2.05079429e-02  9.23024938e-02\n",
            " -1.75596133e-01  4.62539215e-03  1.67796370e-02 -5.95017411e-02\n",
            "  2.91159511e-01 -1.36295408e-01 -2.59420276e-03 -9.72649083e-02\n",
            "  2.01906919e-01 -4.22718436e-01 -4.27516341e-01 -2.60178417e-01\n",
            " -1.64045885e-01  5.06293178e-01  1.37990221e-01  2.25475490e-01\n",
            " -1.84943497e-01  5.89338765e-02  1.86220974e-01  6.16611063e-01\n",
            " -6.96953893e-01  2.25331895e-02  9.62128863e-02  4.25930053e-01\n",
            "  4.04926121e-01 -1.03762835e-01 -2.10311204e-01  1.97529018e-01\n",
            " -1.03595972e-01 -1.09928511e-01 -9.00360122e-02  6.49582446e-01\n",
            " -3.79998498e-02  2.80630708e-01  2.78116167e-02  6.74976587e-01\n",
            "  2.89323896e-01 -5.25621250e-02  8.31459835e-02 -2.64870506e-02\n",
            " -1.39973953e-01 -2.75801998e-02  3.81070375e-02  3.74477357e-02\n",
            " -6.10417724e-01  2.84282357e-01 -1.57141134e-01 -4.65495497e-01\n",
            " -1.93462178e-01 -5.72990775e-02 -2.59539962e-01 -2.59297073e-01\n",
            "  9.73139983e-03 -1.74641058e-01  5.49687669e-02 -1.94515482e-01\n",
            " -9.96437371e-02 -4.05009270e-01 -1.25381038e-01 -2.24322155e-01\n",
            " -8.44537988e-02 -5.65207005e-02 -8.60609189e-02 -1.72864273e-01\n",
            " -3.14543664e-01  2.35087469e-01  1.25247627e-01  5.66044189e-02]\n"
          ]
        }
      ],
      "source": [
        "#importing the berttokenizer and bert model\n",
        "from transformers import BertTokenizer, BertModel\n",
        "#importing the torch\n",
        "import torch\n",
        "\n",
        "# Using existed model and feeding it to tokenizer\n",
        "name = 'bert-base-uncased'\n",
        "tokenizer = BertTokenizer.from_pretrained(name)\n",
        "model = BertModel.from_pretrained(name)\n",
        "\n",
        "# cretaing query and text to query\n",
        "query = \"How to get admitted in UNT\"\n",
        "text = \"you needed to get admitted into UNT and enroll for courses.\"\n",
        "\n",
        "# Tokenize the query and feed the data\n",
        "inputs_query = tokenizer(query, return_tensors=\"pt\")\n",
        "inputs_text = tokenizer(text, return_tensors=\"pt\")\n",
        "\n",
        "# Getting bert queries\n",
        "with torch.no_grad():\n",
        "    my_output = model(**inputs_query)\n",
        "    my_text = model(**inputs_text)\n",
        "\n",
        "#getting bert query results\n",
        "embedded_query = my_output.last_hidden_state.mean(dim=1).squeeze().numpy()\n",
        "embedded_text = my_text.last_hidden_state.mean(dim=1).squeeze().numpy()\n",
        "print(query)\n",
        "print(embedded_query)\n",
        "print(embedded_text)\n",
        "\n"
      ]
    }
  ],
  "metadata": {
    "kernelspec": {
      "display_name": "Python 3 (ipykernel)",
      "language": "python",
      "name": "python3"
    },
    "language_info": {
      "codemirror_mode": {
        "name": "ipython",
        "version": 3
      },
      "file_extension": ".py",
      "mimetype": "text/x-python",
      "name": "python",
      "nbconvert_exporter": "python",
      "pygments_lexer": "ipython3",
      "version": "3.9.12"
    },
    "colab": {
      "provenance": [],
      "include_colab_link": true
    }
  },
  "nbformat": 4,
  "nbformat_minor": 0
}