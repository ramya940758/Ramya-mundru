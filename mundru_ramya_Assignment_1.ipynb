{
  "cells": [
    {
      "cell_type": "markdown",
      "metadata": {
        "id": "view-in-github",
        "colab_type": "text"
      },
      "source": [
        "<a href=\"https://colab.research.google.com/github/ramya940758/Ramya-mundru/blob/main/mundru_ramya_Assignment_1.ipynb\" target=\"_parent\"><img src=\"https://colab.research.google.com/assets/colab-badge.svg\" alt=\"Open In Colab\"/></a>"
      ]
    },
    {
      "cell_type": "markdown",
      "metadata": {
        "id": "Ryk8D1Q4Wsrp"
      },
      "source": [
        "# **INFO5731 Assignment One**"
      ]
    },
    {
      "cell_type": "markdown",
      "metadata": {
        "id": "90_NR8c5XGWc"
      },
      "source": [
        "# Question 1\n",
        "\n",
        "(20 points). Write a Python program to generate 12 random numbers between 1 and 100. Sort the list of numbers in ascending order and print it out. Sort the list of numbers in descending order and print it out. Calculate the average for the group and print it out."
      ]
    },
    {
      "cell_type": "code",
      "execution_count": null,
      "metadata": {
        "id": "5QX6bJjGWXY9",
        "colab": {
          "base_uri": "https://localhost:8080/"
        },
        "outputId": "7de9511a-18f8-4986-a725-485983fafbd7"
      },
      "outputs": [
        {
          "output_type": "stream",
          "name": "stdout",
          "text": [
            "Generated random numbers: [65, 100, 40, 34, 70, 58, 27, 39, 78, 52, 87, 78]\n",
            "Ascending sorted: [27, 34, 39, 40, 52, 58, 65, 70, 78, 78, 87, 100]\n",
            "Descending sorted: [100, 87, 78, 78, 70, 65, 58, 52, 40, 39, 34, 27]\n",
            "Total average: 60.666666666666664\n"
          ]
        }
      ],
      "source": [
        "# Your code here\n",
        "import random\n",
        "\n",
        "# 12 random num between 1 to 100\n",
        "random_num = [random.randint(1, 100) for _ in range(12)]\n",
        "\n",
        "# arranging in ascending order\n",
        "ascending_sorted = sorted(random_num)\n",
        "\n",
        "# arranging in descending order\n",
        "descending_sorted = sorted(random_num, reverse=True)\n",
        "\n",
        "# Calculating total average\n",
        "Total_Avg = sum(random_num) / len(random_num)\n",
        "\n",
        "# generating results\n",
        "print(\"Generated random numbers:\", random_num)\n",
        "print(\"Ascending sorted:\", ascending_sorted)\n",
        "print(\"Descending sorted:\", descending_sorted)\n",
        "print(\"Total average:\", Total_Avg)\n",
        "\n"
      ]
    },
    {
      "cell_type": "markdown",
      "metadata": {
        "id": "1F_PZdH9Sh49"
      },
      "source": [
        "# Question 2\n",
        "(25 points).\n",
        "\n",
        "Write a program that will do the following string formatting tasks:\n",
        "\n",
        "(1) Ask the user to enter two sentences.\n",
        "\n",
        "(2) Make each sentence into a list. Each element in the list should correspond to a word in the sentence. For example, if the sentence is \"Alas! Am I alive? This is my first python program\", the program should print out ['Alas, '!', 'Am', 'I', 'alive, '?', 'This', 'is', 'my', 'first', 'python', 'program'].\n",
        "\n",
        "(3) Compare the two sentences. Print out a list of words that occur in both sentences.\n",
        "\n",
        "(4) Remove any punctuation from the sentence and print it back out. It should remove at least the following characters, but it can remove more: period(“.”), comma (“,”), semicolon (“;”), and colon (“:”)\n",
        "\n",
        "(5) Count the number of vowels in the sentences. Print out each vowel and the number of times it appears in the sentences, such as: a:2, e:1, i:0, etc"
      ]
    },
    {
      "cell_type": "code",
      "execution_count": null,
      "metadata": {
        "id": "Y0oOSlsOS0cq",
        "colab": {
          "base_uri": "https://localhost:8080/"
        },
        "outputId": "14303cb1-378d-490e-9ad0-7503715f3fdc"
      },
      "outputs": [
        {
          "name": "stdout",
          "output_type": "stream",
          "text": [
            "Enter the first sentence: sadfgjygbm jhhjkb hgyjfgv yfthg\n",
            "Enter the second sentence: vcfgh fygkjb gd5euf jyugb\n"
          ]
        }
      ],
      "source": [
        "# Your code here\n",
        "import string\n",
        "\n",
        "# (1) user need to enter two sentences\n",
        "s1 = input(\"Enter the first sentence: \")\n",
        "s2 = input(\"Enter the second sentence: \")\n",
        "\n"
      ]
    },
    {
      "cell_type": "code",
      "source": [
        "import string\n",
        "# (2) Making each sentence into a list\n",
        "def sentence_to_list(sentence):\n",
        "    # Splitting the sentence into words\n",
        "    words = sentence.split()\n",
        "    # Processing each word to separate punctuation\n",
        "    list_word = []\n",
        "    for word in words:\n",
        "        word_without_punctuation = ''.join([char if char not in string.punctuation else f' {char} ' for char in word])\n",
        "        list_word.extend(word_without_punctuation.split())\n",
        "    return list_word\n",
        "\n",
        "list_word1 = sentence_to_list(s1)\n",
        "list_word2 = sentence_to_list(s2)\n",
        "\n",
        "#printing sentences to list\n",
        "print(\"list of words for both sentences:\")\n",
        "print(list_word1)\n",
        "print(list_word2)"
      ],
      "metadata": {
        "colab": {
          "base_uri": "https://localhost:8080/"
        },
        "id": "TqKcdtjqibV2",
        "outputId": "df76b11d-5e03-4587-88ab-03775d93f0ae"
      },
      "execution_count": null,
      "outputs": [
        {
          "output_type": "stream",
          "name": "stdout",
          "text": [
            "list of words for both sentences:\n",
            "['sadfgjygbm', 'jhhjkb', 'hgyjfgv', 'yfthg']\n",
            "['vcfgh', 'fygkjb', 'gd5euf', 'jyugb']\n"
          ]
        }
      ]
    },
    {
      "cell_type": "code",
      "source": [
        "import string\n",
        "# (3) Comparing each sentences to find common words in them\n",
        "common_words = list(set(list_word1).intersection(list_word2))\n",
        "# After comparing two sentences printing common words\n",
        "print(\"printing Common words in both sentences:\")\n",
        "print(common_words)"
      ],
      "metadata": {
        "colab": {
          "base_uri": "https://localhost:8080/"
        },
        "id": "fuZ65gTcicXG",
        "outputId": "f01edcc7-3ed1-4c8f-fbb1-6e1ff82a2460"
      },
      "execution_count": null,
      "outputs": [
        {
          "output_type": "stream",
          "name": "stdout",
          "text": [
            "printing Common words in both sentences:\n",
            "[]\n"
          ]
        }
      ]
    },
    {
      "cell_type": "code",
      "source": [
        "import string\n",
        "# (4) Removing punctuation from each sentences\n",
        "def remove_punctuation(sentence):\n",
        "    return ''.join(char for char in sentence if char not in string.punctuation)\n",
        "\n",
        "s1_no_punctuation = remove_punctuation(s1)\n",
        "s2_no_punctuation = remove_punctuation(s2)\n",
        "\n",
        "#printing results after removing punctuations\n",
        "print(\"Sentences with punctuation removed:\")\n",
        "print(s1_no_punctuation)\n",
        "print(s2_no_punctuation)"
      ],
      "metadata": {
        "colab": {
          "base_uri": "https://localhost:8080/"
        },
        "id": "EO5jTWl2ichG",
        "outputId": "743718d2-b2c3-44a5-f6ec-303afce94b65"
      },
      "execution_count": null,
      "outputs": [
        {
          "output_type": "stream",
          "name": "stdout",
          "text": [
            "Sentences with punctuation removed:\n",
            "sadfgjygbm jhhjkb hgyjfgv yfthg\n",
            "vcfgh fygkjb gd5euf jyugb\n"
          ]
        }
      ]
    },
    {
      "cell_type": "code",
      "source": [
        "import string\n",
        "# (5) Counting the number of vowels in each sentences\n",
        "def count_vowels(sentence):\n",
        "    vowels = \"aeiouAEIOU\"\n",
        "    vowel_counts = {vowel: 0 for vowel in vowels}\n",
        "    for char in sentence:\n",
        "        if char in vowels:\n",
        "            vowel_counts[char] += 1\n",
        "    return vowel_counts\n",
        "\n",
        "vowel_counts1 = count_vowels(s1)\n",
        "vowel_counts2 = count_vowels(s2)\n",
        "\n",
        "# printing vowel count in each sentences\n",
        "print(\"Vowel counts in both sentences:\")\n",
        "print(\"S1:\", vowel_counts1)\n",
        "print(\"S2:\", vowel_counts2)\n"
      ],
      "metadata": {
        "id": "PtH-oTPmlqA3",
        "colab": {
          "base_uri": "https://localhost:8080/"
        },
        "outputId": "2cce13aa-fb64-4a85-adfd-aa226cad7a53"
      },
      "execution_count": null,
      "outputs": [
        {
          "output_type": "stream",
          "name": "stdout",
          "text": [
            "Vowel counts in both sentences:\n",
            "S1: {'a': 1, 'e': 0, 'i': 0, 'o': 0, 'u': 0, 'A': 0, 'E': 0, 'I': 0, 'O': 0, 'U': 0}\n",
            "S2: {'a': 0, 'e': 1, 'i': 0, 'o': 0, 'u': 2, 'A': 0, 'E': 0, 'I': 0, 'O': 0, 'U': 0}\n"
          ]
        }
      ]
    },
    {
      "cell_type": "markdown",
      "metadata": {
        "id": "CmFoI4jDS9nx"
      },
      "source": [
        "# Question 3\n",
        "\n",
        "(15 points). The formula that describes the volume V of a sphere with radius r is the following:\n",
        "\n",
        "$ V=\\frac{4}{3}\\ast\\ \\pi\\ast\\ r^3 $\n",
        "\n",
        "Write a program to calculate the value of V when r is in the range of 1–10. Output the result in the following format:\n",
        "\n",
        "\tr\tV\n",
        "\t1\t…\n",
        "\t2\t…\n",
        "\t3\t…\n"
      ]
    },
    {
      "cell_type": "code",
      "execution_count": null,
      "metadata": {
        "id": "pEyqeioAT95b",
        "colab": {
          "base_uri": "https://localhost:8080/"
        },
        "outputId": "e6049aa8-c63f-4ff9-b7d6-a71cc9d0b78e"
      },
      "outputs": [
        {
          "output_type": "stream",
          "name": "stdout",
          "text": [
            "r  v\n",
            "1  4.19\n",
            "2  33.51\n",
            "3  113.10\n",
            "4  268.08\n",
            "5  523.60\n",
            "6  904.78\n",
            "7  1436.76\n",
            "8  2144.66\n",
            "9  3053.63\n",
            "10  4188.79\n"
          ]
        }
      ],
      "source": [
        "\n",
        "import math\n",
        "\n",
        "# Defining the start and end range of radius\n",
        "start_range = 1\n",
        "end_range = 10\n",
        "\n",
        "# provided output\n",
        "print(\"r  v\")\n",
        "\n",
        "# Calculating and printing the volume for each radius in the range\n",
        "for radius in range(start_range, end_range + 1):\n",
        "    # Calculating the volume by using the formula\n",
        "    vol = (4/3) * math.pi * (radius**3)\n",
        "\n",
        "    # Formatting the output\n",
        "    output = f\"{radius:1d}  {vol:.2f}\"\n",
        "\n",
        "    # Printing the formatted output\n",
        "    print(output)\n",
        "\n"
      ]
    },
    {
      "cell_type": "markdown",
      "metadata": {
        "id": "z3tBE7E-Xn5X"
      },
      "source": [
        "# Question 4\n",
        "\n",
        "(40 points). In the field of Data Science, data is often formatted as a comma-delimited (CSV) file, where each line in a file corresponds to a field's value. Refer to Chapter 9 (p. 106) for more information on comma-delimited files. To answer this question, you will need to download the file [Assignment1_denton_housing.csv](https://raw.githubusercontent.com/unt-iialab/info5731-spring2022/main/assignments/Assignment1_denton_housing.csv) included with this assignment. The file [Assignment1_denton_housing.csv](https://raw.githubusercontent.com/unt-iialab/info5731-spring2022/main/assignments/Assignment1_denton_housing.csv) contains statistics about housing in the city of Denton from 2008 to 2014. Write a program to implement the following questions.\n",
        "\n",
        "(1) (10 pts) Calculate the difference in the number of Occupied Housing Units from year to year and print it. The difference must be calculated for the consecutive years such as 2008-2009, 2009-2010 etc. Finally, print the values in the ascending order.\n",
        "\n",
        "(2) (10 pts) For all the years, calculate the percentage of housing units which are vacant an occupied. Print the results in the following format:\n",
        "\n",
        "Year Vacant Housing Units Occupied Housing Units\n",
        "\n",
        "    2008  30%   70%                          \n",
        "\t2009 ----- -----\n",
        "\t2010 ----- -----\n",
        "    2011 ----- -----\n",
        "\t2012 ----- -----\n",
        "    2013 ----- -----\n",
        "\t2014 ----- -----\n",
        "  \n",
        "  \n",
        "\n",
        "(3) (10 pts) Calculate and print the valued and years in which the highest number of housing units were vacant and occupied. Print the results in the following format:  \n",
        "\n",
        "                              Year\tValue\n",
        "\tVacant Housing Units\t  -----   -----\n",
        "\tOccupied Housing Units\t-----   -----\n",
        "\n",
        "(4) (10 pts) Calculate the harmonic mean of the total housing units and print it out. You can find the information about harmonic mean here: https://ncalculators.com/statistics/harmonic-mean-calculator.htm"
      ]
    },
    {
      "cell_type": "code",
      "source": [
        "import csv\n",
        "\n",
        "# Initializing the variables for storing data\n",
        "data = []\n",
        "\n",
        "# Reading the CSV file which is renamed as data\n",
        "with open('data.csv', 'r') as file:\n",
        "    reader = csv.DictReader(file)\n",
        "    for row in reader:\n",
        "        data.append(row)\n",
        "\n",
        "# Step 1: Calculating the diff in the num of Occupied Housing Units from year to year\n",
        "diff_year = {}\n",
        "past_year_data = None\n",
        "\n",
        "for row in data:\n",
        "    year = int(row['year'])\n",
        "    title_field = row['title_field']\n",
        "    intdata = int(row['value']) if row['value'].isdigit() else 0\n",
        "\n",
        "    if title_field == 'Occupied Housing Units':\n",
        "        if past_year_data is not None:\n",
        "            past_value = int(past_year_data['value'])\n",
        "            diff_year[f\"{past_year_data['year']}-{year}\"] = intdata - past_value\n",
        "\n",
        "    past_year_data = row\n",
        "\n",
        "# Sort and print the diff in ascending order\n",
        "sorted_year_diff = sorted(diff_year.items(), key=lambda x: x[1])\n",
        "print(\"(1) Diff in the num of Occupied Housing Units from year to year (in asc order):\")\n",
        "for year_range, difference in sorted_year_diff:\n",
        "    print(f\"{year_range}: {difference}\")\n",
        "\n",
        "# Step 2: Calculating the % of vacant and occupied housing units for each year\n",
        "year_percentage = {}\n",
        "for row in data:\n",
        "    year = int(row['year'])\n",
        "    title_field = row['title_field']\n",
        "    intdata = int(row['value']) if row['value'].isdigit() else 0\n",
        "\n",
        "    if title_field == 'Total Housing Units':\n",
        "        total_units = intdata\n",
        "    elif title_field == 'Vacant Housing Units':\n",
        "        vacant_units = intdata\n",
        "    elif title_field == 'Occupied Housing Units':\n",
        "        occupied_units = intdata\n",
        "        vacant_percent = (vacant_units / total_units) * 100\n",
        "        occupied_percent = (occupied_units / total_units) * 100\n",
        "        year_percentage[year] = (vacant_percent, occupied_percent)\n",
        "\n",
        "# Printing the percentages in the specified format\n",
        "print(\"\\n(2) Percentage of housing units which are vacant and occupied for each year:\")\n",
        "print(\"Year   Vacant Housing Units   Occupied Housing Units\")\n",
        "for year, (vacant_percent, occupied_percent) in year_percentage.items():\n",
        "    print(f\"{year}      {vacant_percent:.1f}%               {occupied_percent:.1f}%\")\n",
        "\n",
        "# Step 3: Calculate the years with the highest number of vacant and occupied housing units\n",
        "maximum_vacant_year = max(data, key=lambda x: int(x['value']) if x['title_field'] == 'Vacant Housing Units' else 0)['year']\n",
        "maximum_vacant_value = max(data, key=lambda x: int(x['value']) if x['title_field'] == 'Vacant Housing Units' else 0)['value']\n",
        "\n",
        "maximum_occupied_year = max(data, key=lambda x: int(x['value']) if x['title_field'] == 'Occupied Housing Units' else 0)['year']\n",
        "maximum_occupied_value = max(data, key=lambda x: int(x['value']) if x['title_field'] == 'Occupied Housing Units' else 0)['value']\n",
        "\n",
        "print(\"\\n(3) Years with the highest number of vacant and occupied housing units:\")\n",
        "print(\"                     Year    Value\")\n",
        "print(f\"Vacant Housing Units   {maximum_vacant_year}    {maximum_vacant_value}\")\n",
        "print(f\"Occupied Housing Units {maximum_occupied_year}    {maximum_occupied_value}\")\n",
        "\n",
        "# Step 4: Calculate the harmonic mean of the total housing units\n",
        "total_units = [int(row['value']) for row in data if row['title_field'] == 'Total Housing Units']\n",
        "n = len(total_units)\n",
        "harmonic_mean = n / sum(1 / x for x in total_units)\n",
        "\n",
        "# Print the harmonic mean\n",
        "print(\"\\n(4) Harmonic mean of the total housing units:\", harmonic_mean)"
      ],
      "metadata": {
        "colab": {
          "base_uri": "https://localhost:8080/"
        },
        "id": "eDOp11T_aXCq",
        "outputId": "8168743f-28a1-4ae8-f39f-6f3fc159e743"
      },
      "execution_count": null,
      "outputs": [
        {
          "output_type": "stream",
          "name": "stdout",
          "text": [
            "(1) Diff in the num of Occupied Housing Units from year to year (in asc order):\n",
            "2008-2008: 32228\n",
            "2009-2009: 32333\n",
            "2011-2011: 36491\n",
            "2010-2010: 37372\n",
            "2012-2012: 39095\n",
            "2013-2013: 39458\n",
            "2014-2014: 43481\n",
            "\n",
            "(2) Percentage of housing units which are vacant and occupied for each year:\n",
            "Year   Vacant Housing Units   Occupied Housing Units\n",
            "2014      5.7%               94.3%\n",
            "2013      8.8%               91.2%\n",
            "2012      6.7%               93.3%\n",
            "2011      9.4%               90.6%\n",
            "2010      8.1%               91.9%\n",
            "2009      9.1%               90.9%\n",
            "2008      10.9%               89.1%\n",
            "\n",
            "(3) Years with the highest number of vacant and occupied housing units:\n",
            "                     Year    Value\n",
            "Vacant Housing Units   2008    4483\n",
            "Occupied Housing Units 2014    46295\n",
            "\n",
            "(4) Harmonic mean of the total housing units: 44398.28543969185\n"
          ]
        }
      ]
    }
  ],
  "metadata": {
    "colab": {
      "provenance": [],
      "include_colab_link": true
    },
    "kernelspec": {
      "display_name": "Python 3 (ipykernel)",
      "language": "python",
      "name": "python3"
    },
    "language_info": {
      "codemirror_mode": {
        "name": "ipython",
        "version": 3
      },
      "file_extension": ".py",
      "mimetype": "text/x-python",
      "name": "python",
      "nbconvert_exporter": "python",
      "pygments_lexer": "ipython3",
      "version": "3.9.12"
    }
  },
  "nbformat": 4,
  "nbformat_minor": 0
}